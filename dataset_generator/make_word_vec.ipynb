{
 "cells": [
  {
   "cell_type": "code",
   "execution_count": 1,
   "metadata": {
    "collapsed": true
   },
   "outputs": [],
   "source": [
    "import pandas as pd\n",
    "from gensim.models import word2vec\n",
    "import logging"
   ]
  },
  {
   "cell_type": "code",
   "execution_count": 2,
   "outputs": [],
   "source": [
    "train = pd.read_csv('./new_datasets/train.tsv', delimiter='\\t', header=None).fillna('')\n",
    "train.columns = ['is_duplicate', 'question1', 'question2']\n",
    "train = train[['is_duplicate', 'question1', 'question2']]\n",
    "test = pd.read_csv('./new_datasets/test.tsv', delimiter='\\t', header=None).fillna('')\n",
    "test.columns = ['is_duplicate', 'question1', 'question2']\n",
    "test = test[['is_duplicate', 'question1', 'question2']]\n",
    "validation = pd.read_csv('./new_datasets/dev.tsv', delimiter='\\t', header=None).fillna('')\n",
    "validation.columns = ['is_duplicate', 'question1', 'question2']\n",
    "validation = validation[['is_duplicate', 'question1', 'question2']]\n",
    "train.columns = ['is_duplicate', 'question1', 'question2']\n",
    "data = pd.concat([train, test, validation], sort=False).fillna('').reset_index()\n",
    "data = data.drop('index', axis=1)\n",
    "data = data.drop('is_duplicate', axis=1)"
   ],
   "metadata": {
    "collapsed": false,
    "pycharm": {
     "name": "#%%\n"
    }
   }
  },
  {
   "cell_type": "code",
   "execution_count": 3,
   "outputs": [],
   "source": [
    "fileObject = open('./new_datasets/all_sentences.txt', 'w', encoding='utf-8')\n",
    "for sentence in data['question1']:\n",
    "    fileObject.write(sentence)\n",
    "    fileObject.write(' ')\n",
    "for sentence in data['question2']:\n",
    "    fileObject.write(sentence)\n",
    "    fileObject.write(' ')"
   ],
   "metadata": {
    "collapsed": false,
    "pycharm": {
     "name": "#%%\n"
    }
   }
  },
  {
   "cell_type": "code",
   "execution_count": 4,
   "outputs": [
    {
     "name": "stderr",
     "output_type": "stream",
     "text": [
      "2020-09-02 19:39:52,585 : INFO : collecting all words and their counts\n",
      "2020-09-02 19:39:52,590 : INFO : PROGRESS: at sentence #0, processed 0 words, keeping 0 word types\n",
      "2020-09-02 19:39:53,330 : INFO : collected 72080 word types from a corpus of 2909054 raw words and 291 sentences\n",
      "2020-09-02 19:39:53,330 : INFO : Loading a fresh vocabulary\n",
      "2020-09-02 19:39:53,423 : INFO : effective_min_count=5 retains 18704 unique words (25% of original 72080, drops 53376)\n",
      "2020-09-02 19:39:53,424 : INFO : effective_min_count=5 leaves 2824182 word corpus (97% of original 2909054, drops 84872)\n",
      "2020-09-02 19:39:53,471 : INFO : deleting the raw counts dictionary of 72080 items\n",
      "2020-09-02 19:39:53,473 : INFO : sample=0.001 downsamples 42 most-common words\n",
      "2020-09-02 19:39:53,474 : INFO : downsampling leaves estimated 1932383 word corpus (68.4% of prior 2824182)\n",
      "2020-09-02 19:39:53,488 : INFO : constructing a huffman tree from 18704 words\n",
      "2020-09-02 19:39:53,910 : INFO : built huffman tree with maximum node depth 19\n",
      "2020-09-02 19:39:53,946 : INFO : estimated required memory for 18704 words and 300 dimensions: 80427200 bytes\n",
      "2020-09-02 19:39:53,946 : INFO : resetting layer weights\n",
      "2020-09-02 19:39:54,180 : INFO : training model with 4 workers on 18704 vocabulary and 300 features, using sg=1 hs=1 sample=0.001 negative=3 window=5\n",
      "2020-09-02 19:39:55,256 : INFO : EPOCH 1 - PROGRESS: at 8.59% examples, 154204 words/s, in_qsize 7, out_qsize 0\n",
      "2020-09-02 19:39:56,276 : INFO : EPOCH 1 - PROGRESS: at 18.21% examples, 167561 words/s, in_qsize 7, out_qsize 0\n",
      "2020-09-02 19:39:57,324 : INFO : EPOCH 1 - PROGRESS: at 27.84% examples, 170791 words/s, in_qsize 8, out_qsize 0\n",
      "2020-09-02 19:39:58,330 : INFO : EPOCH 1 - PROGRESS: at 37.46% examples, 174155 words/s, in_qsize 7, out_qsize 0\n",
      "2020-09-02 19:39:59,341 : INFO : EPOCH 1 - PROGRESS: at 47.42% examples, 177310 words/s, in_qsize 7, out_qsize 0\n",
      "2020-09-02 19:40:00,360 : INFO : EPOCH 1 - PROGRESS: at 56.70% examples, 177133 words/s, in_qsize 7, out_qsize 0\n",
      "2020-09-02 19:40:01,367 : INFO : EPOCH 1 - PROGRESS: at 66.32% examples, 178225 words/s, in_qsize 7, out_qsize 0\n",
      "2020-09-02 19:40:02,399 : INFO : EPOCH 1 - PROGRESS: at 76.63% examples, 180101 words/s, in_qsize 7, out_qsize 0\n",
      "2020-09-02 19:40:03,399 : INFO : EPOCH 1 - PROGRESS: at 86.25% examples, 180780 words/s, in_qsize 7, out_qsize 0\n",
      "2020-09-02 19:40:04,414 : INFO : EPOCH 1 - PROGRESS: at 94.85% examples, 179129 words/s, in_qsize 7, out_qsize 0\n",
      "2020-09-02 19:40:04,869 : INFO : worker thread finished; awaiting finish of 3 more threads\n",
      "2020-09-02 19:40:04,882 : INFO : worker thread finished; awaiting finish of 2 more threads\n",
      "2020-09-02 19:40:04,910 : INFO : worker thread finished; awaiting finish of 1 more threads\n",
      "2020-09-02 19:40:04,917 : INFO : worker thread finished; awaiting finish of 0 more threads\n",
      "2020-09-02 19:40:04,918 : INFO : EPOCH - 1 : training on 2909054 raw words (1932078 effective words) took 10.7s, 179994 effective words/s\n",
      "2020-09-02 19:40:05,928 : INFO : EPOCH 2 - PROGRESS: at 8.93% examples, 171039 words/s, in_qsize 7, out_qsize 0\n",
      "2020-09-02 19:40:06,951 : INFO : EPOCH 2 - PROGRESS: at 17.87% examples, 169562 words/s, in_qsize 7, out_qsize 0\n",
      "2020-09-02 19:40:07,983 : INFO : EPOCH 2 - PROGRESS: at 27.49% examples, 173034 words/s, in_qsize 7, out_qsize 0\n",
      "2020-09-02 19:40:09,015 : INFO : EPOCH 2 - PROGRESS: at 37.80% examples, 178086 words/s, in_qsize 7, out_qsize 0\n",
      "2020-09-02 19:40:10,031 : INFO : EPOCH 2 - PROGRESS: at 47.77% examples, 180278 words/s, in_qsize 8, out_qsize 0\n",
      "2020-09-02 19:40:11,064 : INFO : EPOCH 2 - PROGRESS: at 57.73% examples, 181326 words/s, in_qsize 7, out_qsize 0\n",
      "2020-09-02 19:40:12,091 : INFO : EPOCH 2 - PROGRESS: at 67.35% examples, 181346 words/s, in_qsize 7, out_qsize 0\n",
      "2020-09-02 19:40:13,110 : INFO : EPOCH 2 - PROGRESS: at 76.98% examples, 181539 words/s, in_qsize 7, out_qsize 0\n",
      "2020-09-02 19:40:14,148 : INFO : EPOCH 2 - PROGRESS: at 86.94% examples, 182054 words/s, in_qsize 7, out_qsize 0\n",
      "2020-09-02 19:40:15,178 : INFO : EPOCH 2 - PROGRESS: at 96.91% examples, 182607 words/s, in_qsize 7, out_qsize 0\n",
      "2020-09-02 19:40:15,426 : INFO : worker thread finished; awaiting finish of 3 more threads\n",
      "2020-09-02 19:40:15,428 : INFO : worker thread finished; awaiting finish of 2 more threads\n",
      "2020-09-02 19:40:15,458 : INFO : worker thread finished; awaiting finish of 1 more threads\n",
      "2020-09-02 19:40:15,461 : INFO : worker thread finished; awaiting finish of 0 more threads\n",
      "2020-09-02 19:40:15,463 : INFO : EPOCH - 2 : training on 2909054 raw words (1932559 effective words) took 10.5s, 183311 effective words/s\n",
      "2020-09-02 19:40:16,508 : INFO : EPOCH 3 - PROGRESS: at 8.59% examples, 158606 words/s, in_qsize 8, out_qsize 0\n",
      "2020-09-02 19:40:17,582 : INFO : EPOCH 3 - PROGRESS: at 17.87% examples, 162667 words/s, in_qsize 8, out_qsize 0\n",
      "2020-09-02 19:40:18,605 : INFO : EPOCH 3 - PROGRESS: at 26.80% examples, 164506 words/s, in_qsize 7, out_qsize 0\n",
      "2020-09-02 19:40:19,646 : INFO : EPOCH 3 - PROGRESS: at 36.08% examples, 166406 words/s, in_qsize 8, out_qsize 0\n",
      "2020-09-02 19:40:20,749 : INFO : EPOCH 3 - PROGRESS: at 45.70% examples, 166825 words/s, in_qsize 7, out_qsize 0\n",
      "2020-09-02 19:40:21,787 : INFO : EPOCH 3 - PROGRESS: at 54.98% examples, 167855 words/s, in_qsize 8, out_qsize 0\n",
      "2020-09-02 19:40:22,789 : INFO : EPOCH 3 - PROGRESS: at 64.26% examples, 169395 words/s, in_qsize 7, out_qsize 0\n",
      "2020-09-02 19:40:23,797 : INFO : EPOCH 3 - PROGRESS: at 72.85% examples, 168881 words/s, in_qsize 7, out_qsize 0\n",
      "2020-09-02 19:40:24,852 : INFO : EPOCH 3 - PROGRESS: at 82.13% examples, 169052 words/s, in_qsize 7, out_qsize 0\n",
      "2020-09-02 19:40:25,898 : INFO : EPOCH 3 - PROGRESS: at 91.07% examples, 168673 words/s, in_qsize 7, out_qsize 0\n",
      "2020-09-02 19:40:26,782 : INFO : worker thread finished; awaiting finish of 3 more threads\n",
      "2020-09-02 19:40:26,821 : INFO : worker thread finished; awaiting finish of 2 more threads\n",
      "2020-09-02 19:40:26,829 : INFO : worker thread finished; awaiting finish of 1 more threads\n",
      "2020-09-02 19:40:26,871 : INFO : worker thread finished; awaiting finish of 0 more threads\n",
      "2020-09-02 19:40:26,872 : INFO : EPOCH - 3 : training on 2909054 raw words (1932338 effective words) took 11.4s, 169395 effective words/s\n",
      "2020-09-02 19:40:27,890 : INFO : EPOCH 4 - PROGRESS: at 8.25% examples, 156460 words/s, in_qsize 7, out_qsize 0\n",
      "2020-09-02 19:40:28,978 : INFO : EPOCH 4 - PROGRESS: at 17.53% examples, 160410 words/s, in_qsize 7, out_qsize 0\n",
      "2020-09-02 19:40:29,986 : INFO : EPOCH 4 - PROGRESS: at 26.12% examples, 161719 words/s, in_qsize 7, out_qsize 0\n",
      "2020-09-02 19:40:30,990 : INFO : EPOCH 4 - PROGRESS: at 35.05% examples, 164231 words/s, in_qsize 7, out_qsize 0\n",
      "2020-09-02 19:40:32,012 : INFO : EPOCH 4 - PROGRESS: at 43.64% examples, 163856 words/s, in_qsize 8, out_qsize 0\n",
      "2020-09-02 19:40:33,067 : INFO : EPOCH 4 - PROGRESS: at 52.92% examples, 164890 words/s, in_qsize 8, out_qsize 0\n",
      "2020-09-02 19:40:34,069 : INFO : EPOCH 4 - PROGRESS: at 61.86% examples, 165958 words/s, in_qsize 7, out_qsize 0\n",
      "2020-09-02 19:40:35,104 : INFO : EPOCH 4 - PROGRESS: at 70.79% examples, 166101 words/s, in_qsize 8, out_qsize 0\n",
      "2020-09-02 19:40:36,142 : INFO : EPOCH 4 - PROGRESS: at 80.07% examples, 166891 words/s, in_qsize 7, out_qsize 0\n",
      "2020-09-02 19:40:37,143 : INFO : EPOCH 4 - PROGRESS: at 88.32% examples, 166196 words/s, in_qsize 8, out_qsize 0\n",
      "2020-09-02 19:40:38,214 : INFO : EPOCH 4 - PROGRESS: at 97.59% examples, 166365 words/s, in_qsize 7, out_qsize 0\n",
      "2020-09-02 19:40:38,367 : INFO : worker thread finished; awaiting finish of 3 more threads\n",
      "2020-09-02 19:40:38,371 : INFO : worker thread finished; awaiting finish of 2 more threads\n",
      "2020-09-02 19:40:38,402 : INFO : worker thread finished; awaiting finish of 1 more threads\n",
      "2020-09-02 19:40:38,403 : INFO : worker thread finished; awaiting finish of 0 more threads\n",
      "2020-09-02 19:40:38,404 : INFO : EPOCH - 4 : training on 2909054 raw words (1932231 effective words) took 11.5s, 167598 effective words/s\n",
      "2020-09-02 19:40:39,484 : INFO : EPOCH 5 - PROGRESS: at 8.59% examples, 153869 words/s, in_qsize 7, out_qsize 0\n",
      "2020-09-02 19:40:40,544 : INFO : EPOCH 5 - PROGRESS: at 18.21% examples, 164305 words/s, in_qsize 7, out_qsize 0\n",
      "2020-09-02 19:40:41,589 : INFO : EPOCH 5 - PROGRESS: at 27.84% examples, 168679 words/s, in_qsize 7, out_qsize 0\n",
      "2020-09-02 19:40:42,610 : INFO : EPOCH 5 - PROGRESS: at 37.46% examples, 171999 words/s, in_qsize 7, out_qsize 0\n",
      "2020-09-02 19:40:43,618 : INFO : EPOCH 5 - PROGRESS: at 46.39% examples, 171803 words/s, in_qsize 7, out_qsize 0\n",
      "2020-09-02 19:40:44,620 : INFO : EPOCH 5 - PROGRESS: at 55.67% examples, 173005 words/s, in_qsize 7, out_qsize 0\n",
      "2020-09-02 19:40:45,625 : INFO : EPOCH 5 - PROGRESS: at 63.57% examples, 170085 words/s, in_qsize 8, out_qsize 0\n",
      "2020-09-02 19:40:46,666 : INFO : EPOCH 5 - PROGRESS: at 71.82% examples, 167982 words/s, in_qsize 7, out_qsize 0\n",
      "2020-09-02 19:40:47,752 : INFO : EPOCH 5 - PROGRESS: at 80.76% examples, 166986 words/s, in_qsize 8, out_qsize 0\n",
      "2020-09-02 19:40:48,759 : INFO : EPOCH 5 - PROGRESS: at 89.35% examples, 166802 words/s, in_qsize 7, out_qsize 0\n",
      "2020-09-02 19:40:49,838 : INFO : EPOCH 5 - PROGRESS: at 95.88% examples, 162130 words/s, in_qsize 7, out_qsize 0\n",
      "2020-09-02 19:40:50,207 : INFO : worker thread finished; awaiting finish of 3 more threads\n",
      "2020-09-02 19:40:50,237 : INFO : worker thread finished; awaiting finish of 2 more threads\n",
      "2020-09-02 19:40:50,281 : INFO : worker thread finished; awaiting finish of 1 more threads\n",
      "2020-09-02 19:40:50,337 : INFO : worker thread finished; awaiting finish of 0 more threads\n",
      "2020-09-02 19:40:50,338 : INFO : EPOCH - 5 : training on 2909054 raw words (1932709 effective words) took 11.9s, 161997 effective words/s\n",
      "2020-09-02 19:40:50,339 : INFO : training on a 14545270 raw words (9661915 effective words) took 56.2s, 172050 effective words/s\n",
      "2020-09-02 19:40:50,340 : INFO : saving Word2Vec object under ./new_datasets/wordvec.model, separately None\n",
      "2020-09-02 19:40:50,341 : INFO : not storing attribute vectors_norm\n",
      "2020-09-02 19:40:50,342 : INFO : not storing attribute cum_table\n",
      "2020-09-02 19:40:51,381 : INFO : saved ./new_datasets/wordvec.model\n",
      "2020-09-02 19:40:51,381 : INFO : storing 18704x300 projection weights into ./new_datasets/wordvec.txt\n"
     ]
    }
   ],
   "source": [
    "logging.basicConfig(format='%(asctime)s : %(levelname)s : %(message)s', level=logging.INFO)\n",
    "sentences = word2vec.Text8Corpus('./new_datasets/all_sentences.txt')\n",
    "model = word2vec.Word2Vec(sentences, sg=1, size=300,  window=5,  min_count=5,  negative=3, sample=0.001, hs=1, workers=4)\n",
    "model.save('./new_datasets/wordvec.model')\n",
    "model.wv.save_word2vec_format('./new_datasets/wordvec.txt',binary = False)\n"
   ],
   "metadata": {
    "collapsed": false,
    "pycharm": {
     "name": "#%%\n"
    }
   }
  }
 ],
 "metadata": {
  "kernelspec": {
   "display_name": "Python 3",
   "language": "python",
   "name": "python3"
  },
  "language_info": {
   "codemirror_mode": {
    "name": "ipython",
    "version": 2
   },
   "file_extension": ".py",
   "mimetype": "text/x-python",
   "name": "python",
   "nbconvert_exporter": "python",
   "pygments_lexer": "ipython2",
   "version": "2.7.6"
  }
 },
 "nbformat": 4,
 "nbformat_minor": 0
}