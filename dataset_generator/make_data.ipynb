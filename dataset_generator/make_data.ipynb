{
 "cells": [
  {
   "cell_type": "code",
   "execution_count": 40,
   "metadata": {
    "collapsed": true
   },
   "outputs": [],
   "source": [
    "import pandas as pd\n",
    "from tqdm import tqdm\n",
    "from tqdm import trange\n",
    "import numpy as np\n",
    "from scipy.sparse import coo_matrix\n",
    "from sklearn import preprocessing\n",
    "import re\n",
    "import os\n",
    "import matplotlib.pyplot as plt\n",
    "import random\n",
    "from scipy.stats import norm"
   ]
  },
  {
   "cell_type": "code",
   "execution_count": 41,
   "outputs": [
    {
     "name": "stdout",
     "output_type": "stream",
     "text": [
      "0.2266273523768682\n"
     ]
    },
    {
     "data": {
      "text/plain": "<Figure size 432x288 with 1 Axes>",
      "image/png": "[encoded data removed]"
     },
     "metadata": {
      "needs_background": "light"
     },
     "output_type": "display_data"
    }
   ],
   "source": [
    "loc = 4\n",
    "scale = 4\n",
    "print(norm.cdf(1, loc, scale))\n",
    "plt.plot(np.arange(30) + np.ones(30), [norm.cdf(i+1, loc, scale) for i in range(30)])\n",
    "plt.show()\n",
    "probit_dict = {}\n",
    "for i in range(343):\n",
    "    probit_dict[str(i+1)] = norm.cdf(i+1, loc, scale)"
   ],
   "metadata": {
    "collapsed": false,
    "pycharm": {
     "name": "#%%\n"
    }
   }
  },
  {
   "cell_type": "code",
   "execution_count": 42,
   "outputs": [],
   "source": [
    "file_msr = \"./datasets/msr.txt\"\n",
    "file_train = \"./datasets/train.tsv\"\n",
    "file_val = \"./datasets/dev.tsv\"\n",
    "file_test = \"././datasets/test.tsv\"\n",
    "\n",
    "tr = pd.read_csv(file_train, delimiter='\\t', header=None)\n",
    "tr.columns = ['is_duplicate', 'question1', 'question2', 'pair_id']\n",
    "tr = tr[['is_duplicate', 'question1', 'question2']]\n",
    "\n",
    "val = pd.read_csv(file_val, delimiter='\\t', header=None)\n",
    "val.columns = ['is_duplicate', 'question1', 'question2', 'pair_id']\n",
    "val = val[['is_duplicate', 'question1', 'question2']]\n",
    "\n",
    "tst = pd.read_csv(file_test, delimiter='\\t', header=None)\n",
    "tst.columns = ['is_duplicate', 'question1', 'question2', 'pair_id']\n",
    "tst = tst[['is_duplicate', 'question1', 'question2']]\n",
    "\n",
    "msr = pd.read_csv(file_msr, delimiter='\\t', usecols=['#1 String', '#2 String', 'Quality'])\n",
    "msr.columns = ['is_duplicate', 'question1', 'question2']\n",
    "or_data = pd.concat([tr, val, tst, msr], sort=False).fillna('').reset_index()\n",
    "or_data = or_data.drop('index', axis=1)"
   ],
   "metadata": {
    "collapsed": false,
    "pycharm": {
     "name": "#%%\n"
    }
   }
  },
  {
   "cell_type": "code",
   "execution_count": 43,
   "outputs": [
    {
     "name": "stdout",
     "output_type": "stream",
     "text": [
      "---------- Loading Datasets ----------\n",
      "Success!\n"
     ]
    }
   ],
   "source": [
    "def leaky_extracting(concat):\n",
    "    tid1 = concat['q1_id'].values\n",
    "    tid2 = concat['q2_id'].values\n",
    "    doc_number = np.max((tid1.max(), tid2.max())) + 1\n",
    "    adj = coo_matrix((np.ones(len(tid1) * 2), (np.concatenate(\n",
    "        [tid1, tid2]), np.concatenate([tid2, tid1]))), (doc_number,  doc_number))\n",
    "    degree = adj.sum(axis=0)\n",
    "    concat['q1_id_degree'] = concat['q1_id'].apply(lambda x: degree[0, x])\n",
    "    concat['q2_id_degree'] = concat['q2_id'].apply(lambda x: degree[0, x])\n",
    "    tmp = adj * adj\n",
    "    concat['path'] = concat.apply(\n",
    "        lambda row: tmp[int(row['q1_id']), int(row['q2_id'])], axis=1)\n",
    "    return concat\n",
    "\n",
    "\n",
    "def load_data(data):\n",
    "    print('---------- Loading Datasets ----------')\n",
    "    questions = list(data['question1'].values) + list(data['question2'].values)\n",
    "    le = preprocessing.LabelEncoder()\n",
    "    le.fit(questions)\n",
    "    data['q1_id'] = le.transform(data['question1'].values)\n",
    "    data['q2_id'] = le.transform(data['question2'].values)\n",
    "    data = leaky_extracting(data)\n",
    "    label = data[\"is_duplicate\"].to_numpy()\n",
    "    s1_freq = data[\"q1_id_degree\"].to_numpy()\n",
    "    s2_freq = data[\"q2_id_degree\"].to_numpy()\n",
    "    s1s2_inter = data[\"path\"].to_numpy()\n",
    "    X = pd.DataFrame({\n",
    "        \"s1_freq\": s1_freq,\n",
    "        \"s2_freq\": s2_freq,\n",
    "        \"s1s2_inter\": s1s2_inter,\n",
    "        \"q1_id\": data['q1_id'],\n",
    "        \"q2_id\": data['q2_id'],\n",
    "        \"label\": label\n",
    "    })\n",
    "    Y = label\n",
    "    print('Success!')\n",
    "    return X, Y\n",
    "\n",
    "\n",
    "data, label = load_data(or_data)"
   ],
   "metadata": {
    "collapsed": false,
    "pycharm": {
     "name": "#%%\n"
    }
   }
  },
  {
   "cell_type": "code",
   "execution_count": 44,
   "outputs": [],
   "source": [
    "q1_ID_list = np.array(data['q1_id'])\n",
    "q2_ID_list = np.array(data['q2_id'])\n",
    "q2_list = np.array(or_data['question2'])\n",
    "q1_list = np.array(or_data['question1'])\n",
    "data = data.reset_index()\n",
    "\n",
    "\n",
    "new_tabel_label_1 = np.zeros(343)\n",
    "new_tabel_label_0 = np.zeros(343)\n",
    "def selection(num, num1, num2):\n",
    "    for i in range(num+num1+num2, num-1, -1):\n",
    "        num3 = new_tabel_label_1[i-1]\n",
    "        num4 = new_tabel_label_0[i-1]\n",
    "        if i == num:\n",
    "            return i-num, 0\n",
    "        tmp = (probit_dict[str(i)])*(num3+num4+i-num) - num3\n",
    "        if num1 >= int(tmp) >= 0 and int(tmp) <= i - num and i - num - int(tmp) <= num2:\n",
    "            if num1 >= int(tmp)+1 >= 0 and int(tmp)+1 <= i - num and i - num - int(tmp)-1 <= num2:\n",
    "                return i-num, random.choice([int(tmp), int(tmp)+1])\n",
    "            else:\n",
    "                return i-num, int(tmp)\n",
    "        if num1 >= int(tmp)+1 >= 0 and int(tmp)+1 <= i - num and i - num - int(tmp)-1 <= num2:\n",
    "            return i-num, int(tmp)+1\n",
    "\n",
    "\n",
    "def get_sentence(index, param):\n",
    "    if param == 1:\n",
    "        return or_data['question1'][index]\n",
    "    if param == 2:\n",
    "        return or_data['question2'][index]"
   ],
   "metadata": {
    "collapsed": false,
    "pycharm": {
     "name": "#%%\n"
    }
   }
  },
  {
   "cell_type": "code",
   "execution_count": 45,
   "outputs": [
    {
     "name": "stderr",
     "output_type": "stream",
     "text": [
      "409960it [2:34:20, 44.27it/s] \n"
     ]
    }
   ],
   "source": [
    "new_table = pd.DataFrame({\n",
    "    \"label\":[],\n",
    "    \"question1\":[],\n",
    "    \"question2\":[],\n",
    "    \"q1_id\":[],\n",
    "    \"q2_id\":[]\n",
    "})\n",
    "\n",
    "\n",
    "for count, id in tqdm(enumerate(q2_ID_list)):\n",
    "    new_df = new_table[(new_table['q1_id']==id) | (new_table['q2_id']==id)]\n",
    "    num = new_df.shape[0]\n",
    "    df1 = data[data['q2_id'].isin([id])][data[data['q2_id'].isin([id])]['label'].isin(['1'])]\n",
    "    df2 = data[data['q2_id'].isin([id])][data[data['q2_id'].isin([id])]['label'].isin(['0'])]\n",
    "    num1, num2 = df1.shape[0], df2.shape[0]\n",
    "    if num==0 and num1==0 and num2==0:\n",
    "        continue\n",
    "    total, num_of_1 = selection(num, num1, num2)\n",
    "    for index, tuple in df1.head(num_of_1).iterrows():\n",
    "        tmp = pd.DataFrame([[int(tuple['label']), get_sentence(index, 1), get_sentence(index, 2), tuple['q1_id'], tuple['q2_id']]], columns=['label', 'question1', 'question2', 'q1_id', 'q2_id'])\n",
    "        new_table = new_table.append(tmp, ignore_index=True)\n",
    "    for index, tuple in df2.head(total-num_of_1).iterrows():\n",
    "        tmp = pd.DataFrame([[int(tuple['label']), get_sentence(index, 1), get_sentence(index, 2), tuple['q1_id'], tuple['q2_id']]], columns=['label', 'question1', 'question2', 'q1_id', 'q2_id'])\n",
    "        new_table = new_table.append(tmp, ignore_index=True)\n",
    "    data = data.drop(data[(data['q1_id']==id) | (data['q2_id']==id)].index)\n",
    "    new_tabel_label_0[num+total-1] = new_tabel_label_0[num+total-1] + total - num_of_1\n",
    "    new_tabel_label_1[num+total-1] = new_tabel_label_1[num+total-1] + num_of_1"
   ],
   "metadata": {
    "collapsed": false,
    "pycharm": {
     "name": "#%%\n"
    }
   }
  },
  {
   "cell_type": "code",
   "execution_count": 46,
   "outputs": [],
   "source": [
    "new_table.to_csv('./new_datasets/all.tsv', index=0, columns=['label', 'question1', 'question2'], header=0, sep='\\t')"
   ],
   "metadata": {
    "collapsed": false,
    "pycharm": {
     "name": "#%%\n"
    }
   }
  },
  {
   "cell_type": "code",
   "execution_count": 59,
   "outputs": [],
   "source": [
    "from sklearn.utils import shuffle\n",
    "new_table_read = pd.read_csv('./new_datasets/all.tsv', delimiter='\\t', header=None).fillna('')\n",
    "new_table_read.columns = ['is_duplicate', 'question1', 'question2']\n",
    "new_table_read = shuffle(new_table_read).reset_index()\n",
    "new_table_read = new_table_read.drop('index', axis=1)\n",
    "train = new_table_read.loc[0:new_table_read.shape[0]-6001]\n",
    "validation = new_table_read.loc[new_table_read.shape[0]-6000: new_table_read.shape[0]-3001]\n",
    "test = new_table_read.loc[new_table_read.shape[0]-3000: new_table_read.shape[0]-1]\n",
    "train.to_csv('./new_datasets/train.tsv', index=0, columns=['is_duplicate', 'question1', 'question2'], header=0, sep='\\t')\n",
    "validation.to_csv('./new_datasets/dev.tsv', index=0, columns=['is_duplicate', 'question1', 'question2'], header=0, sep='\\t')\n",
    "test.to_csv('./new_datasets/test.tsv', index=0, columns=['is_duplicate', 'question1', 'question2'], header=0, sep='\\t')"
   ],
   "metadata": {
    "collapsed": false,
    "pycharm": {
     "name": "#%%\n"
    }
   }
  },
  {
   "cell_type": "code",
   "execution_count": 67,
   "outputs": [
    {
     "name": "stdout",
     "output_type": "stream",
     "text": [
      "---------- Loading Datasets ----------\n",
      "Success!\n"
     ]
    },
    {
     "name": "stderr",
     "output_type": "stream",
     "text": [
      "100%|██████████| 52/52 [01:59<00:00,  2.29s/it]\n"
     ]
    },
    {
     "data": {
      "text/plain": "<Figure size 864x432 with 1 Axes>",
      "image/png": "[encoded data removed]"
     },
     "metadata": {},
     "output_type": "display_data"
    }
   ],
   "source": [
    "train = pd.read_csv('./new_datasets/train.tsv', delimiter='\\t', header=None).fillna('')\n",
    "train.columns = ['is_duplicate', 'question1', 'question2']\n",
    "train = train[['is_duplicate', 'question1', 'question2']]\n",
    "test = pd.read_csv('./new_datasets/test.tsv', delimiter='\\t', header=None).fillna('')\n",
    "test.columns = ['is_duplicate', 'question1', 'question2']\n",
    "test = test[['is_duplicate', 'question1', 'question2']]\n",
    "validation = pd.read_csv('./new_datasets/dev.tsv', delimiter='\\t', header=None).fillna('')\n",
    "validation.columns = ['is_duplicate', 'question1', 'question2']\n",
    "validation = validation[['is_duplicate', 'question1', 'question2']]\n",
    "train.columns = ['is_duplicate', 'question1', 'question2']\n",
    "new_table_concat = pd.concat([train, test, validation], sort=False).fillna('').reset_index()\n",
    "new_table_concat = new_table_concat.drop('index', axis=1)\n",
    "\n",
    "\n",
    "def count_prob(table, s2_freq):\n",
    "    num0 = 0\n",
    "    num1 = 0\n",
    "    for count, i in enumerate(table['label']):\n",
    "        if table['s2_freq'][count] == s2_freq and int(i) == 1:\n",
    "            num1 += 1\n",
    "        elif table['s2_freq'][count] == s2_freq and int(i) == 0:\n",
    "            num0 += 1\n",
    "        else:\n",
    "            continue\n",
    "    if num0 + num1 == 0:\n",
    "        return 0\n",
    "    return num1 / (num0 + num1)\n",
    "\n",
    "\n",
    "new_data, new_label = load_data(new_table_concat)\n",
    "prob_list = []\n",
    "for i in trange(int(max(new_data['s2_freq']))):\n",
    "    tmp = count_prob(new_data, i+1)\n",
    "    if tmp != 0:\n",
    "        prob_list.append(count_prob(new_data, i+1))\n",
    "    else:\n",
    "        prob_list.append(1)\n",
    "\n",
    "\n",
    "plt.style.use('dark_background')\n",
    "plt.rcParams['figure.figsize'] = (12.0, 6.0)\n",
    "plt.plot(np.arange(int(max(new_data['s2_freq'])))+np.ones(int(max(new_data['s2_freq']))), prob_list)\n",
    "plt.xlabel('S2_freq')\n",
    "plt.xlabel('Percentage of Duplicate Pairs')\n",
    "plt.show()\n"
   ],
   "metadata": {
    "collapsed": false,
    "pycharm": {
     "name": "#%%\n"
    }
   }
  }
 ],
 "metadata": {
  "kernelspec": {
   "display_name": "Python 3",
   "language": "python",
   "name": "python3"
  },
  "language_info": {
   "codemirror_mode": {
    "name": "ipython",
    "version": 2
   },
   "file_extension": ".py",
   "mimetype": "text/x-python",
   "name": "python",
   "nbconvert_exporter": "python",
   "pygments_lexer": "ipython2",
   "version": "2.7.6"
  }
 },
 "nbformat": 4,
 "nbformat_minor": 0
}